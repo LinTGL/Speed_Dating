{
 "cells": [
  {
   "cell_type": "code",
   "execution_count": 45,
   "metadata": {},
   "outputs": [],
   "source": [
    "import pandas as pd\n",
    "import matplotlib.pyplot as plt\n"
   ]
  },
  {
   "cell_type": "code",
   "execution_count": 46,
   "metadata": {},
   "outputs": [
    {
     "data": {
      "text/html": [
       "<div>\n",
       "<style scoped>\n",
       "    .dataframe tbody tr th:only-of-type {\n",
       "        vertical-align: middle;\n",
       "    }\n",
       "\n",
       "    .dataframe tbody tr th {\n",
       "        vertical-align: top;\n",
       "    }\n",
       "\n",
       "    .dataframe thead th {\n",
       "        text-align: right;\n",
       "    }\n",
       "</style>\n",
       "<table border=\"1\" class=\"dataframe\">\n",
       "  <thead>\n",
       "    <tr style=\"text-align: right;\">\n",
       "      <th></th>\n",
       "      <th>gender</th>\n",
       "      <th>age</th>\n",
       "      <th>income</th>\n",
       "      <th>goal</th>\n",
       "      <th>career</th>\n",
       "      <th>dec</th>\n",
       "      <th>attr</th>\n",
       "      <th>sinc</th>\n",
       "      <th>intel</th>\n",
       "      <th>fun</th>\n",
       "      <th>amb</th>\n",
       "      <th>shar</th>\n",
       "      <th>like</th>\n",
       "      <th>prob</th>\n",
       "      <th>met</th>\n",
       "    </tr>\n",
       "  </thead>\n",
       "  <tbody>\n",
       "    <tr>\n",
       "      <th>0</th>\n",
       "      <td>0</td>\n",
       "      <td>21.0</td>\n",
       "      <td>69487.0</td>\n",
       "      <td>2.0</td>\n",
       "      <td>lawyer</td>\n",
       "      <td>1</td>\n",
       "      <td>6.0</td>\n",
       "      <td>9.0</td>\n",
       "      <td>7.0</td>\n",
       "      <td>7.0</td>\n",
       "      <td>6.0</td>\n",
       "      <td>5.0</td>\n",
       "      <td>7.0</td>\n",
       "      <td>6.0</td>\n",
       "      <td>2.0</td>\n",
       "    </tr>\n",
       "    <tr>\n",
       "      <th>1</th>\n",
       "      <td>0</td>\n",
       "      <td>21.0</td>\n",
       "      <td>69487.0</td>\n",
       "      <td>2.0</td>\n",
       "      <td>lawyer</td>\n",
       "      <td>1</td>\n",
       "      <td>7.0</td>\n",
       "      <td>8.0</td>\n",
       "      <td>7.0</td>\n",
       "      <td>8.0</td>\n",
       "      <td>5.0</td>\n",
       "      <td>6.0</td>\n",
       "      <td>7.0</td>\n",
       "      <td>5.0</td>\n",
       "      <td>1.0</td>\n",
       "    </tr>\n",
       "    <tr>\n",
       "      <th>2</th>\n",
       "      <td>0</td>\n",
       "      <td>21.0</td>\n",
       "      <td>69487.0</td>\n",
       "      <td>2.0</td>\n",
       "      <td>lawyer</td>\n",
       "      <td>1</td>\n",
       "      <td>5.0</td>\n",
       "      <td>8.0</td>\n",
       "      <td>9.0</td>\n",
       "      <td>8.0</td>\n",
       "      <td>5.0</td>\n",
       "      <td>7.0</td>\n",
       "      <td>7.0</td>\n",
       "      <td>NaN</td>\n",
       "      <td>1.0</td>\n",
       "    </tr>\n",
       "    <tr>\n",
       "      <th>3</th>\n",
       "      <td>0</td>\n",
       "      <td>21.0</td>\n",
       "      <td>69487.0</td>\n",
       "      <td>2.0</td>\n",
       "      <td>lawyer</td>\n",
       "      <td>1</td>\n",
       "      <td>7.0</td>\n",
       "      <td>6.0</td>\n",
       "      <td>8.0</td>\n",
       "      <td>7.0</td>\n",
       "      <td>6.0</td>\n",
       "      <td>8.0</td>\n",
       "      <td>7.0</td>\n",
       "      <td>6.0</td>\n",
       "      <td>2.0</td>\n",
       "    </tr>\n",
       "    <tr>\n",
       "      <th>4</th>\n",
       "      <td>0</td>\n",
       "      <td>21.0</td>\n",
       "      <td>69487.0</td>\n",
       "      <td>2.0</td>\n",
       "      <td>lawyer</td>\n",
       "      <td>1</td>\n",
       "      <td>5.0</td>\n",
       "      <td>6.0</td>\n",
       "      <td>7.0</td>\n",
       "      <td>7.0</td>\n",
       "      <td>6.0</td>\n",
       "      <td>6.0</td>\n",
       "      <td>6.0</td>\n",
       "      <td>6.0</td>\n",
       "      <td>2.0</td>\n",
       "    </tr>\n",
       "  </tbody>\n",
       "</table>\n",
       "</div>"
      ],
      "text/plain": [
       "   gender   age   income  goal  career  dec  attr  sinc  intel  fun  amb  \\\n",
       "0       0  21.0  69487.0   2.0  lawyer    1   6.0   9.0    7.0  7.0  6.0   \n",
       "1       0  21.0  69487.0   2.0  lawyer    1   7.0   8.0    7.0  8.0  5.0   \n",
       "2       0  21.0  69487.0   2.0  lawyer    1   5.0   8.0    9.0  8.0  5.0   \n",
       "3       0  21.0  69487.0   2.0  lawyer    1   7.0   6.0    8.0  7.0  6.0   \n",
       "4       0  21.0  69487.0   2.0  lawyer    1   5.0   6.0    7.0  7.0  6.0   \n",
       "\n",
       "   shar  like  prob  met  \n",
       "0   5.0   7.0   6.0  2.0  \n",
       "1   6.0   7.0   5.0  1.0  \n",
       "2   7.0   7.0   NaN  1.0  \n",
       "3   8.0   7.0   6.0  2.0  \n",
       "4   6.0   6.0   6.0  2.0  "
      ]
     },
     "execution_count": 46,
     "metadata": {},
     "output_type": "execute_result"
    }
   ],
   "source": [
    "df_speedDating = pd.read_csv(r\"C:\\Users\\DELL 7480\\Documents\\PROTOJAM\\speed_data_data.csv\", sep =',')\n",
    "df_speedDating.head()"
   ]
  },
  {
   "cell_type": "code",
   "execution_count": 47,
   "metadata": {},
   "outputs": [
    {
     "name": "stdout",
     "output_type": "stream",
     "text": [
      "<class 'pandas.core.frame.DataFrame'>\n",
      "RangeIndex: 8378 entries, 0 to 8377\n",
      "Data columns (total 15 columns):\n",
      " #   Column  Non-Null Count  Dtype  \n",
      "---  ------  --------------  -----  \n",
      " 0   gender  8378 non-null   int64  \n",
      " 1   age     8283 non-null   float64\n",
      " 2   income  4279 non-null   float64\n",
      " 3   goal    8299 non-null   float64\n",
      " 4   career  8289 non-null   object \n",
      " 5   dec     8378 non-null   int64  \n",
      " 6   attr    8176 non-null   float64\n",
      " 7   sinc    8101 non-null   float64\n",
      " 8   intel   8082 non-null   float64\n",
      " 9   fun     8028 non-null   float64\n",
      " 10  amb     7666 non-null   float64\n",
      " 11  shar    7311 non-null   float64\n",
      " 12  like    8138 non-null   float64\n",
      " 13  prob    8069 non-null   float64\n",
      " 14  met     8003 non-null   float64\n",
      "dtypes: float64(12), int64(2), object(1)\n",
      "memory usage: 981.9+ KB\n"
     ]
    }
   ],
   "source": [
    "df_speedDating.info()"
   ]
  },
  {
   "cell_type": "code",
   "execution_count": 48,
   "metadata": {},
   "outputs": [
    {
     "data": {
      "text/plain": [
       "(8378, 15)"
      ]
     },
     "execution_count": 48,
     "metadata": {},
     "output_type": "execute_result"
    }
   ],
   "source": [
    "df_speedDating.shape"
   ]
  },
  {
   "cell_type": "code",
   "execution_count": 49,
   "metadata": {},
   "outputs": [
    {
     "data": {
      "text/html": [
       "<div>\n",
       "<style scoped>\n",
       "    .dataframe tbody tr th:only-of-type {\n",
       "        vertical-align: middle;\n",
       "    }\n",
       "\n",
       "    .dataframe tbody tr th {\n",
       "        vertical-align: top;\n",
       "    }\n",
       "\n",
       "    .dataframe thead th {\n",
       "        text-align: right;\n",
       "    }\n",
       "</style>\n",
       "<table border=\"1\" class=\"dataframe\">\n",
       "  <thead>\n",
       "    <tr style=\"text-align: right;\">\n",
       "      <th></th>\n",
       "      <th>count</th>\n",
       "      <th>mean</th>\n",
       "      <th>std</th>\n",
       "      <th>min</th>\n",
       "      <th>25%</th>\n",
       "      <th>50%</th>\n",
       "      <th>75%</th>\n",
       "      <th>max</th>\n",
       "    </tr>\n",
       "  </thead>\n",
       "  <tbody>\n",
       "    <tr>\n",
       "      <th>gender</th>\n",
       "      <td>8378.0</td>\n",
       "      <td>0.500597</td>\n",
       "      <td>0.500029</td>\n",
       "      <td>0.0</td>\n",
       "      <td>0.0</td>\n",
       "      <td>1.0</td>\n",
       "      <td>1.0</td>\n",
       "      <td>1.0</td>\n",
       "    </tr>\n",
       "    <tr>\n",
       "      <th>age</th>\n",
       "      <td>8283.0</td>\n",
       "      <td>26.358928</td>\n",
       "      <td>3.566763</td>\n",
       "      <td>18.0</td>\n",
       "      <td>24.0</td>\n",
       "      <td>26.0</td>\n",
       "      <td>28.0</td>\n",
       "      <td>55.0</td>\n",
       "    </tr>\n",
       "    <tr>\n",
       "      <th>income</th>\n",
       "      <td>4279.0</td>\n",
       "      <td>44887.606450</td>\n",
       "      <td>17206.920962</td>\n",
       "      <td>8607.0</td>\n",
       "      <td>31516.0</td>\n",
       "      <td>43185.0</td>\n",
       "      <td>54303.0</td>\n",
       "      <td>109031.0</td>\n",
       "    </tr>\n",
       "    <tr>\n",
       "      <th>goal</th>\n",
       "      <td>8299.0</td>\n",
       "      <td>2.122063</td>\n",
       "      <td>1.407181</td>\n",
       "      <td>1.0</td>\n",
       "      <td>1.0</td>\n",
       "      <td>2.0</td>\n",
       "      <td>2.0</td>\n",
       "      <td>6.0</td>\n",
       "    </tr>\n",
       "    <tr>\n",
       "      <th>dec</th>\n",
       "      <td>8378.0</td>\n",
       "      <td>0.419909</td>\n",
       "      <td>0.493573</td>\n",
       "      <td>0.0</td>\n",
       "      <td>0.0</td>\n",
       "      <td>0.0</td>\n",
       "      <td>1.0</td>\n",
       "      <td>1.0</td>\n",
       "    </tr>\n",
       "    <tr>\n",
       "      <th>attr</th>\n",
       "      <td>8176.0</td>\n",
       "      <td>6.189995</td>\n",
       "      <td>1.950169</td>\n",
       "      <td>0.0</td>\n",
       "      <td>5.0</td>\n",
       "      <td>6.0</td>\n",
       "      <td>8.0</td>\n",
       "      <td>10.0</td>\n",
       "    </tr>\n",
       "    <tr>\n",
       "      <th>sinc</th>\n",
       "      <td>8101.0</td>\n",
       "      <td>7.175164</td>\n",
       "      <td>1.740315</td>\n",
       "      <td>0.0</td>\n",
       "      <td>6.0</td>\n",
       "      <td>7.0</td>\n",
       "      <td>8.0</td>\n",
       "      <td>10.0</td>\n",
       "    </tr>\n",
       "    <tr>\n",
       "      <th>intel</th>\n",
       "      <td>8082.0</td>\n",
       "      <td>7.368597</td>\n",
       "      <td>1.550453</td>\n",
       "      <td>0.0</td>\n",
       "      <td>6.0</td>\n",
       "      <td>7.0</td>\n",
       "      <td>8.0</td>\n",
       "      <td>10.0</td>\n",
       "    </tr>\n",
       "    <tr>\n",
       "      <th>fun</th>\n",
       "      <td>8028.0</td>\n",
       "      <td>6.400598</td>\n",
       "      <td>1.953702</td>\n",
       "      <td>0.0</td>\n",
       "      <td>5.0</td>\n",
       "      <td>7.0</td>\n",
       "      <td>8.0</td>\n",
       "      <td>10.0</td>\n",
       "    </tr>\n",
       "    <tr>\n",
       "      <th>amb</th>\n",
       "      <td>7666.0</td>\n",
       "      <td>6.777524</td>\n",
       "      <td>1.794055</td>\n",
       "      <td>0.0</td>\n",
       "      <td>6.0</td>\n",
       "      <td>7.0</td>\n",
       "      <td>8.0</td>\n",
       "      <td>10.0</td>\n",
       "    </tr>\n",
       "    <tr>\n",
       "      <th>shar</th>\n",
       "      <td>7311.0</td>\n",
       "      <td>5.474559</td>\n",
       "      <td>2.156363</td>\n",
       "      <td>0.0</td>\n",
       "      <td>4.0</td>\n",
       "      <td>6.0</td>\n",
       "      <td>7.0</td>\n",
       "      <td>10.0</td>\n",
       "    </tr>\n",
       "    <tr>\n",
       "      <th>like</th>\n",
       "      <td>8138.0</td>\n",
       "      <td>6.134087</td>\n",
       "      <td>1.841285</td>\n",
       "      <td>0.0</td>\n",
       "      <td>5.0</td>\n",
       "      <td>6.0</td>\n",
       "      <td>7.0</td>\n",
       "      <td>10.0</td>\n",
       "    </tr>\n",
       "    <tr>\n",
       "      <th>prob</th>\n",
       "      <td>8069.0</td>\n",
       "      <td>5.207523</td>\n",
       "      <td>2.129565</td>\n",
       "      <td>0.0</td>\n",
       "      <td>4.0</td>\n",
       "      <td>5.0</td>\n",
       "      <td>7.0</td>\n",
       "      <td>10.0</td>\n",
       "    </tr>\n",
       "    <tr>\n",
       "      <th>met</th>\n",
       "      <td>8003.0</td>\n",
       "      <td>0.948769</td>\n",
       "      <td>0.989889</td>\n",
       "      <td>0.0</td>\n",
       "      <td>0.0</td>\n",
       "      <td>0.0</td>\n",
       "      <td>2.0</td>\n",
       "      <td>8.0</td>\n",
       "    </tr>\n",
       "  </tbody>\n",
       "</table>\n",
       "</div>"
      ],
      "text/plain": [
       "         count          mean           std     min      25%      50%      75%  \\\n",
       "gender  8378.0      0.500597      0.500029     0.0      0.0      1.0      1.0   \n",
       "age     8283.0     26.358928      3.566763    18.0     24.0     26.0     28.0   \n",
       "income  4279.0  44887.606450  17206.920962  8607.0  31516.0  43185.0  54303.0   \n",
       "goal    8299.0      2.122063      1.407181     1.0      1.0      2.0      2.0   \n",
       "dec     8378.0      0.419909      0.493573     0.0      0.0      0.0      1.0   \n",
       "attr    8176.0      6.189995      1.950169     0.0      5.0      6.0      8.0   \n",
       "sinc    8101.0      7.175164      1.740315     0.0      6.0      7.0      8.0   \n",
       "intel   8082.0      7.368597      1.550453     0.0      6.0      7.0      8.0   \n",
       "fun     8028.0      6.400598      1.953702     0.0      5.0      7.0      8.0   \n",
       "amb     7666.0      6.777524      1.794055     0.0      6.0      7.0      8.0   \n",
       "shar    7311.0      5.474559      2.156363     0.0      4.0      6.0      7.0   \n",
       "like    8138.0      6.134087      1.841285     0.0      5.0      6.0      7.0   \n",
       "prob    8069.0      5.207523      2.129565     0.0      4.0      5.0      7.0   \n",
       "met     8003.0      0.948769      0.989889     0.0      0.0      0.0      2.0   \n",
       "\n",
       "             max  \n",
       "gender       1.0  \n",
       "age         55.0  \n",
       "income  109031.0  \n",
       "goal         6.0  \n",
       "dec          1.0  \n",
       "attr        10.0  \n",
       "sinc        10.0  \n",
       "intel       10.0  \n",
       "fun         10.0  \n",
       "amb         10.0  \n",
       "shar        10.0  \n",
       "like        10.0  \n",
       "prob        10.0  \n",
       "met          8.0  "
      ]
     },
     "execution_count": 49,
     "metadata": {},
     "output_type": "execute_result"
    }
   ],
   "source": [
    "df_speedDating.describe().T"
   ]
  },
  {
   "cell_type": "code",
   "execution_count": 50,
   "metadata": {},
   "outputs": [
    {
     "data": {
      "text/plain": [
       "career\n",
       "Finance                     202\n",
       "professor                   199\n",
       "Lawyer                      154\n",
       "Professor                   148\n",
       "Consulting                  147\n",
       "                           ... \n",
       "teaching                      5\n",
       "MBA                           5\n",
       "engineering professional      5\n",
       "Asset Management              5\n",
       "a research position           5\n",
       "Name: count, Length: 367, dtype: int64"
      ]
     },
     "execution_count": 50,
     "metadata": {},
     "output_type": "execute_result"
    }
   ],
   "source": [
    "#Nombre de différentes professions \n",
    "df_speedDating['career'].value_counts()"
   ]
  },
  {
   "cell_type": "code",
   "execution_count": 51,
   "metadata": {},
   "outputs": [
    {
     "data": {
      "text/plain": [
       "gender       0\n",
       "age         95\n",
       "income    4099\n",
       "goal        79\n",
       "career      89\n",
       "dec          0\n",
       "attr       202\n",
       "sinc       277\n",
       "intel      296\n",
       "fun        350\n",
       "amb        712\n",
       "shar      1067\n",
       "like       240\n",
       "prob       309\n",
       "met        375\n",
       "dtype: int64"
      ]
     },
     "execution_count": 51,
     "metadata": {},
     "output_type": "execute_result"
    }
   ],
   "source": [
    "#Nombre de données absentes par colonne\n",
    "df_speedDating.isna().sum()"
   ]
  },
  {
   "cell_type": "code",
   "execution_count": 52,
   "metadata": {},
   "outputs": [],
   "source": [
    "df_speed = df_speedDating.dropna(axis=0)\n"
   ]
  },
  {
   "cell_type": "code",
   "execution_count": 53,
   "metadata": {},
   "outputs": [
    {
     "data": {
      "text/plain": [
       "(3501, 15)"
      ]
     },
     "execution_count": 53,
     "metadata": {},
     "output_type": "execute_result"
    }
   ],
   "source": [
    "df_speed.shape"
   ]
  },
  {
   "cell_type": "code",
   "execution_count": 54,
   "metadata": {},
   "outputs": [
    {
     "name": "stdout",
     "output_type": "stream",
     "text": [
      "<class 'pandas.core.frame.DataFrame'>\n",
      "RangeIndex: 8378 entries, 0 to 8377\n",
      "Data columns (total 15 columns):\n",
      " #   Column  Non-Null Count  Dtype  \n",
      "---  ------  --------------  -----  \n",
      " 0   gender  8378 non-null   int64  \n",
      " 1   age     8283 non-null   float64\n",
      " 2   income  4279 non-null   float64\n",
      " 3   goal    8299 non-null   float64\n",
      " 4   career  8289 non-null   object \n",
      " 5   dec     8378 non-null   int64  \n",
      " 6   attr    8176 non-null   float64\n",
      " 7   sinc    8101 non-null   float64\n",
      " 8   intel   8082 non-null   float64\n",
      " 9   fun     8028 non-null   float64\n",
      " 10  amb     7666 non-null   float64\n",
      " 11  shar    7311 non-null   float64\n",
      " 12  like    8138 non-null   float64\n",
      " 13  prob    8069 non-null   float64\n",
      " 14  met     8003 non-null   float64\n",
      "dtypes: float64(12), int64(2), object(1)\n",
      "memory usage: 981.9+ KB\n"
     ]
    }
   ],
   "source": [
    "df_speedDating.info()"
   ]
  },
  {
   "cell_type": "code",
   "execution_count": 55,
   "metadata": {},
   "outputs": [
    {
     "name": "stdout",
     "output_type": "stream",
     "text": [
      "<class 'pandas.core.frame.DataFrame'>\n",
      "RangeIndex: 8378 entries, 0 to 8377\n",
      "Data columns (total 15 columns):\n",
      " #   Column  Non-Null Count  Dtype  \n",
      "---  ------  --------------  -----  \n",
      " 0   gender  8378 non-null   int64  \n",
      " 1   age     8283 non-null   float64\n",
      " 2   income  4279 non-null   float64\n",
      " 3   goal    8299 non-null   float64\n",
      " 4   career  8289 non-null   object \n",
      " 5   dec     8378 non-null   int64  \n",
      " 6   attr    8176 non-null   float64\n",
      " 7   sinc    8101 non-null   float64\n",
      " 8   intel   8082 non-null   float64\n",
      " 9   fun     8028 non-null   float64\n",
      " 10  amb     7666 non-null   float64\n",
      " 11  shar    7311 non-null   float64\n",
      " 12  like    8138 non-null   float64\n",
      " 13  prob    8069 non-null   float64\n",
      " 14  met     8003 non-null   float64\n",
      "dtypes: float64(12), int64(2), object(1)\n",
      "memory usage: 981.9+ KB\n"
     ]
    }
   ],
   "source": [
    "df_speedDating.info()"
   ]
  },
  {
   "cell_type": "code",
   "execution_count": 56,
   "metadata": {},
   "outputs": [
    {
     "data": {
      "text/plain": [
       "(3501, 15)"
      ]
     },
     "execution_count": 56,
     "metadata": {},
     "output_type": "execute_result"
    }
   ],
   "source": [
    "df_speedDating.dropna(axis=0, inplace=True)\n",
    "df_speedDating.shape"
   ]
  },
  {
   "cell_type": "code",
   "execution_count": null,
   "metadata": {},
   "outputs": [],
   "source": [
    "from sklearn.neighbors import KNeighborsClassifier"
   ]
  },
  {
   "cell_type": "code",
   "execution_count": null,
   "metadata": {},
   "outputs": [],
   "source": []
  }
 ],
 "metadata": {
  "kernelspec": {
   "display_name": "Python 3",
   "language": "python",
   "name": "python3"
  },
  "language_info": {
   "codemirror_mode": {
    "name": "ipython",
    "version": 3
   },
   "file_extension": ".py",
   "mimetype": "text/x-python",
   "name": "python",
   "nbconvert_exporter": "python",
   "pygments_lexer": "ipython3",
   "version": "3.12.2"
  }
 },
 "nbformat": 4,
 "nbformat_minor": 2
}
